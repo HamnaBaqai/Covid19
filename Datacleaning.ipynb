import numpy as np
import pandas as pd
def read_excel_sheets(xls_path):

    xl = pd.ExcelFile(xls_path)  
#Sheet1 data cleaning    
    df1 = pd.read_excel(xl, 'TimeSeries_KeyIndicators')
    #Replace null values with 0
    df1.fillna(0, inplace=True)
    #Converting datatypes
    df1['Date']= pd.to_datetime(df1['Date']) 
    df1['Tests  performed in last 24 hours'] = df1['Tests  performed in last 24 hours'].replace({"No 0": "0"})
    df1['Home Quarantine'] = df1['Home Quarantine'].astype(np.int64)
    df1['Tests  performed in last 24 hours'] = df1['Tests  performed in last 24 hours'].astype(np.int64)
    df1.rename(columns={'Unnamed: 0' :'Serial'}, inplace=True)
    #print(df1.dtypes)
    
#Create new cvs file with updated changes    
    df1.to_csv('cleanfile1.csv', encoding='utf-8')

#Sheet2 datacleaning
    df2 = pd.read_excel(xl, 'TimeSeries_Action_Screen')
    df2['Date']= pd.to_datetime(df2['Date']) 
    
   # print(df2.dtypes)
#Create new cvs file with updated changes    
    df2.to_csv('cleanfile2.csv', encoding='utf-8')

#Sheet 3 datacleaning
    df3 = pd.read_excel(xl, 'TimeSeries_Action_Call')
    df3['Date']= pd.to_datetime(df3['Date']) 
    df3['Returnees'] = df3['Returnees'].str.replace('Returnees from','')
#Create new cvs file with updated changes        
    df3.to_csv('cleanfile3.csv', encoding='utf-8')

#Sheet 4 datacleaning
    df4 = pd.read_excel(xl, 'TimeSeries_COVID_News')
    df4['Date']= pd.to_datetime(df4['Date']) 
    df4.rename(columns={'Unnamed: 0' :'Count'}, inplace=True)
#Create new cvs file with updated changes        
    df4.to_csv('cleanfile4.csv', encoding='utf-8')
    #print(df4.dtypes)

#Sheet 5 datacleaning
    df5 = pd.read_excel(xl, 'TimeSeries_NIH_Response')    
    df5['Date']= pd.to_datetime(df5['Date']) 
    df5.rename(columns={'Unnamed: 0' :'Count'}, inplace=True)

#Create new cvs file with updated changes        
    df5.to_csv('cleanfile5.csv', encoding='utf-8')

#Sheet 6 datacleaning
    df6 = pd.read_excel(xl, 'TimeSeries_NIH_Risk') 
    df6['Date']= pd.to_datetime(df6['Date']) 
    df6['Risk Assessment NIH']=df6['Risk Assessment NIH'].str.lower() 
    df6['Risk Assessment NIH'] = df6['Risk Assessment NIH'].str.replace('.','')
    df6.rename(columns={'Unnamed: 0' :'Count'}, inplace=True)

#Create new cvs file with updated changes        
    df6.to_csv('cleanfile6.csv', encoding='utf-8')
    
#Sheet 7 datacleaning
    df7 = pd.read_excel(xl, 'TimeSeries_Province_Response') 
    df7['Date']= pd.to_datetime(df7['Date']) 
    df7.rename(columns={'Unnamed: 0' :'Count'}, inplace=True)


    print(df7.dtypes)


    


    return df7
