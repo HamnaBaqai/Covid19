import xlwt 
from xlwt import Workbook 
def read_excel_sheets(xls_path):

    xl = pd.ExcelFile(xls_path)  
    
    df1 = pd.read_excel(xl, 'TimeSeries_KeyIndicators')
    df1.fillna(0, inplace=True)
    
    df1['Date']= pd.to_datetime(df1['Date']) 
    df1['Tests  performed in last 24 hours'] = df1['Tests  performed in last 24 hours'].replace({"No 0": "0"})

    df1['Home Quarantine'] = df1['Home Quarantine'].astype(np.int64)
    df1['Tests  performed in last 24 hours'] = df1['Tests  performed in last 24 hours'].astype(np.int64)

    print(df1.dtypes)
    df1.to_csv('cleanfile.csv', encoding='utf-8')
    return df1
